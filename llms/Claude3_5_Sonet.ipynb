{
  "nbformat": 4,
  "nbformat_minor": 0,
  "metadata": {
    "colab": {
      "provenance": []
    },
    "kernelspec": {
      "name": "python3",
      "display_name": "Python 3"
    },
    "language_info": {
      "name": "python"
    }
  },
  "cells": [
    {
      "cell_type": "code",
      "source": [
        "!pip install -q -U langchain-anthropic"
      ],
      "metadata": {
        "id": "VzgWoNKpKy_N"
      },
      "execution_count": null,
      "outputs": []
    },
    {
      "cell_type": "code",
      "source": [
        "from langchain_anthropic import ChatAnthropic"
      ],
      "metadata": {
        "id": "-b3v6AyXQhhB"
      },
      "execution_count": null,
      "outputs": []
    },
    {
      "cell_type": "code",
      "source": [
        "import getpass\n",
        "import os\n",
        "\n",
        "os.environ[\"ANTHROPIC_API_KEY\"] = getpass.getpass()"
      ],
      "metadata": {
        "colab": {
          "base_uri": "https://localhost:8080/"
        },
        "id": "Nk8CIgKXQr_Z",
        "outputId": "c3c3f062-8d94-4d70-c546-32d9f4bd9dbf"
      },
      "execution_count": null,
      "outputs": [
        {
          "name": "stdout",
          "output_type": "stream",
          "text": [
            "··········\n"
          ]
        }
      ]
    },
    {
      "cell_type": "code",
      "source": [
        "model = ChatAnthropic(temperature=0.5, max_tokens_to_sample=1000, model=\"claude-3-5-sonnet-20240620\")"
      ],
      "metadata": {
        "id": "8acE_AOhQzhK"
      },
      "execution_count": null,
      "outputs": []
    },
    {
      "cell_type": "code",
      "source": [
        "model.invoke(\"Which team won cricket world cup in 2023?\")"
      ],
      "metadata": {
        "colab": {
          "base_uri": "https://localhost:8080/"
        },
        "id": "lflWQ0BiRWnP",
        "outputId": "06999bb1-366a-44e4-ccfd-03327186112e"
      },
      "execution_count": null,
      "outputs": [
        {
          "output_type": "execute_result",
          "data": {
            "text/plain": [
              "AIMessage(content=\"The 2023 ICC Cricket World Cup was held in India from October 5 to November 19, 2023. The tournament was won by Australia, who defeated India in the final match at the Narendra Modi Stadium in Ahmedabad. This victory marked Australia's sixth World Cup title, further cementing their status as the most successful team in the history of the tournament.\\n\\nThe final scores were:\\n\\nAustralia: 241/4 (43 overs)\\nIndia: 240 all out (50 overs)\\n\\nAustralia won by 6 wickets, successfully chasing down India's total with 7 overs to spare. Travis Head was named Player of the Match for his crucial innings of 137 runs.\", response_metadata={'id': 'msg_019zbysJvk7dynpwjFukAda6', 'model': 'claude-3-5-sonnet-20240620', 'stop_reason': 'end_turn', 'stop_sequence': None, 'usage': {'input_tokens': 18, 'output_tokens': 162}}, id='run-4276f2a8-a619-45d4-9226-d20d53f3598e-0', usage_metadata={'input_tokens': 18, 'output_tokens': 162, 'total_tokens': 180})"
            ]
          },
          "metadata": {},
          "execution_count": 19
        }
      ]
    },
    {
      "cell_type": "code",
      "source": [],
      "metadata": {
        "id": "oOt3oPAcR88h"
      },
      "execution_count": null,
      "outputs": []
    }
  ]
}