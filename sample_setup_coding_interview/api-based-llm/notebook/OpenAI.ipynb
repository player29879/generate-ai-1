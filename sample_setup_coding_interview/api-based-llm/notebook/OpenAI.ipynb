{
  "nbformat": 4,
  "nbformat_minor": 0,
  "metadata": {
    "colab": {
      "provenance": []
    },
    "kernelspec": {
      "name": "python3",
      "display_name": "Python 3"
    },
    "language_info": {
      "name": "python"
    }
  },
  "cells": [
    {
      "cell_type": "code",
      "source": [
        "!pip install -q -U langchain==0.2.7 langchain-core==0.2.12 langchain-community==0.2.7 python-dotenv==1.0.1"
      ],
      "metadata": {
        "id": "VzgWoNKpKy_N"
      },
      "execution_count": null,
      "outputs": []
    },
    {
      "cell_type": "code",
      "source": [
        "from langchain_community.chat_models import ChatOpenAI\n",
        "from langchain.prompts import PromptTemplate"
      ],
      "metadata": {
        "id": "-b3v6AyXQhhB"
      },
      "execution_count": null,
      "outputs": []
    },
    {
      "cell_type": "markdown",
      "source": [
        "## Provide the API key you created or were given."
      ],
      "metadata": {
        "id": "PDVkfK3cNASA"
      }
    },
    {
      "cell_type": "code",
      "source": [
        "import getpass\n",
        "import os\n",
        "\n",
        "os.environ[\"OPENAI_API_KEY\"] = getpass.getpass()"
      ],
      "metadata": {
        "colab": {
          "base_uri": "https://localhost:8080/"
        },
        "id": "Nk8CIgKXQr_Z",
        "outputId": "c3c3f062-8d94-4d70-c546-32d9f4bd9dbf"
      },
      "execution_count": null,
      "outputs": [
        {
          "name": "stdout",
          "output_type": "stream",
          "text": [
            "··········\n"
          ]
        }
      ]
    },
    {
      "cell_type": "code",
      "source": [
        "prompt_template = \"\"\"\n",
        "        Answer the question as detailed as possible.\n",
        "            Question: \\n{question}\\n\n",
        "\n",
        "        Answer:\n",
        "        \"\"\"\n",
        "question = \"\"\"How can AI and machine learning be integrated into\n",
        "    microservices architecture to improve scalability and reliability in telecom systems?\n",
        "    \"\"\"\n",
        "\n",
        "api_key = os.getenv(\"OPENAI_API_KEY\")\n",
        "\n",
        "llm = ChatOpenAI(api_key=api_key)\n",
        "\n",
        "prompt = PromptTemplate(template=prompt_template, input_variables=[\"question\"])\n",
        "\n",
        "llm_chain = prompt | llm\n",
        "\n",
        "response = llm_chain.invoke({'question':question})"
      ],
      "metadata": {
        "id": "8acE_AOhQzhK"
      },
      "execution_count": null,
      "outputs": []
    },
    {
      "cell_type": "code",
      "source": [
        "print(response)"
      ],
      "metadata": {
        "id": "lflWQ0BiRWnP"
      },
      "execution_count": null,
      "outputs": []
    }
  ]
}