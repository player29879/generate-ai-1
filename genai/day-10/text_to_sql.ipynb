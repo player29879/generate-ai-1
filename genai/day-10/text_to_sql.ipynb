{
  "nbformat": 4,
  "nbformat_minor": 0,
  "metadata": {
    "colab": {
      "provenance": []
    },
    "kernelspec": {
      "name": "python3",
      "display_name": "Python 3"
    },
    "language_info": {
      "name": "python"
    }
  },
  "cells": [
    {
      "cell_type": "code",
      "execution_count": null,
      "metadata": {
        "id": "-v19XlsqP7mI",
        "colab": {
          "base_uri": "https://localhost:8080/"
        },
        "outputId": "175a9112-a1cc-4aa9-e6bc-80aac8feea13"
      },
      "outputs": [
        {
          "output_type": "stream",
          "name": "stdout",
          "text": [
            "Mounted at /content/drive\n"
          ]
        }
      ],
      "source": [
        "#Code to mount Google Drive at Colab Notebook instance\n",
        "from google.colab import drive\n",
        "drive.mount('/content/drive')"
      ]
    },
    {
      "cell_type": "markdown",
      "source": [
        "##**Install Langchain and Google Gemini related libraries**"
      ],
      "metadata": {
        "id": "6dNa79_nt5dZ"
      }
    },
    {
      "cell_type": "code",
      "source": [
        "!pip install -q -U langchain\n",
        "!pip install -q -U google-generativeai langchain-google-genai"
      ],
      "metadata": {
        "id": "r76L6X4AQJEB",
        "colab": {
          "base_uri": "https://localhost:8080/"
        },
        "outputId": "da91cc1f-5043-43af-c527-101e74c1d03c"
      },
      "execution_count": null,
      "outputs": [
        {
          "output_type": "stream",
          "name": "stdout",
          "text": [
            "\u001b[2K     \u001b[90m━━━━━━━━━━━━━━━━━━━━━━━━━━━━━━━━━━━━━━━━\u001b[0m \u001b[32m85.5/85.5 MB\u001b[0m \u001b[31m2.2 MB/s\u001b[0m eta \u001b[36m0:00:00\u001b[0m\n",
            "\u001b[?25h"
          ]
        }
      ]
    },
    {
      "cell_type": "markdown",
      "source": [
        "# Get Gemini API Key from Secrets\n",
        "Set GEMINI_KEY secret key at Google Colab and get that here to runn Google Gemini LLM. You can get Google Gemini Key from following link https://makersuite.google.com/app/apikey"
      ],
      "metadata": {
        "id": "VkmAUJVzuG2T"
      }
    },
    {
      "cell_type": "code",
      "source": [
        "from google.colab import userdata\n",
        "GOOGLE_API_KEY = userdata.get('GEMINI_KEY')"
      ],
      "metadata": {
        "id": "FXFDa9vmuCb4"
      },
      "execution_count": null,
      "outputs": []
    },
    {
      "cell_type": "markdown",
      "source": [
        "Copy chinhook.db to your Google Drive\n",
        "\n",
        "Now, chinhook.db is in our directory and we can interface with it using the SQLAlchemy-driven SQLDatabase class.\n",
        "\n",
        "Location of chinhook.db\n",
        "/content/drive/MyDrive/Colab Notebooks/chinook.db"
      ],
      "metadata": {
        "id": "OO1eAKgEm8OM"
      }
    },
    {
      "cell_type": "code",
      "source": [
        "from langchain_community.utilities import SQLDatabase\n",
        "\n",
        "db = SQLDatabase.from_uri(\"sqlite:////content/drive/MyDrive/Colab Notebooks/chinook.db\")\n",
        "print(db.dialect)\n",
        "print(db.get_usable_table_names())\n",
        "db.run(\"SELECT * FROM Artists LIMIT 10;\")"
      ],
      "metadata": {
        "colab": {
          "base_uri": "https://localhost:8080/",
          "height": 87
        },
        "id": "V6Lo1RFGi-ut",
        "outputId": "8644656e-2065-46e9-9b9f-55169febab30"
      },
      "execution_count": null,
      "outputs": [
        {
          "output_type": "stream",
          "name": "stdout",
          "text": [
            "sqlite\n",
            "['albums', 'artists', 'customers', 'employees', 'genres', 'invoice_items', 'invoices', 'media_types', 'playlist_track', 'playlists', 'tracks']\n"
          ]
        },
        {
          "output_type": "execute_result",
          "data": {
            "text/plain": [
              "\"[(1, 'AC/DC'), (2, 'Accept'), (3, 'Aerosmith'), (4, 'Alanis Morissette'), (5, 'Alice In Chains'), (6, 'Antônio Carlos Jobim'), (7, 'Apocalyptica'), (8, 'Audioslave'), (9, 'BackBeat'), (10, 'Billy Cobham')]\""
            ],
            "application/vnd.google.colaboratory.intrinsic+json": {
              "type": "string"
            }
          },
          "metadata": {},
          "execution_count": 10
        }
      ]
    },
    {
      "cell_type": "markdown",
      "source": [
        "# Chain\n",
        "Let’s create a simple chain that takes a question, turns it into a SQL query, executes the query, and uses the result to answer the original question."
      ],
      "metadata": {
        "id": "2FAUURh9nWIP"
      }
    },
    {
      "cell_type": "markdown",
      "source": [
        "# Convert question to SQL query\n",
        "The first step in a SQL chain or agent is to take the user input and convert it to a SQL query. LangChain comes with a built-in chain for this: create_sql_query_chain"
      ],
      "metadata": {
        "id": "JrxSgy7MnelA"
      }
    },
    {
      "cell_type": "code",
      "source": [
        "from langchain.chains import create_sql_query_chain\n",
        "from langchain_google_genai import ChatGoogleGenerativeAI\n",
        "from langchain_core.prompts import ChatPromptTemplate\n",
        "\n",
        "llm = ChatGoogleGenerativeAI(model=\"gemini-pro\", google_api_key=GOOGLE_API_KEY, convert_system_message_to_human=True, temperature=0.0)\n",
        "chain = create_sql_query_chain(llm, db)\n",
        "response = chain.invoke({\"question\": \"How many employees are there\"})\n",
        "response"
      ],
      "metadata": {
        "colab": {
          "base_uri": "https://localhost:8080/",
          "height": 35
        },
        "id": "7Yzgu-IBjVjJ",
        "outputId": "540d5d2e-95df-4fd0-8bf9-f072a644beb4"
      },
      "execution_count": null,
      "outputs": [
        {
          "output_type": "execute_result",
          "data": {
            "text/plain": [
              "'SQLQuery: SELECT COUNT(*) FROM employees;'"
            ],
            "application/vnd.google.colaboratory.intrinsic+json": {
              "type": "string"
            }
          },
          "metadata": {},
          "execution_count": 20
        }
      ]
    },
    {
      "cell_type": "code",
      "source": [
        "db.run(response)"
      ],
      "metadata": {
        "colab": {
          "base_uri": "https://localhost:8080/",
          "height": 35
        },
        "id": "CB1nmUsHjwv8",
        "outputId": "59320801-73b6-4d19-e0cf-ebb10569e782"
      },
      "execution_count": null,
      "outputs": [
        {
          "output_type": "execute_result",
          "data": {
            "text/plain": [
              "'[(8,)]'"
            ],
            "application/vnd.google.colaboratory.intrinsic+json": {
              "type": "string"
            }
          },
          "metadata": {},
          "execution_count": 14
        }
      ]
    },
    {
      "cell_type": "markdown",
      "source": [
        "#Execute SQL query\n",
        "Now that we’ve generated a SQL query, we’ll want to execute it.\n",
        "\n",
        "We can use the QuerySQLDatabaseTool to easily add query execution to our chain:"
      ],
      "metadata": {
        "id": "xhKxXMd-nlct"
      }
    },
    {
      "cell_type": "code",
      "source": [
        "from langchain_community.tools.sql_database.tool import QuerySQLDataBaseTool\n",
        "\n",
        "execute_query = QuerySQLDataBaseTool(db=db)\n",
        "\n",
        "write_query = create_sql_query_chain(llm, db)\n",
        "chain = write_query | execute_query\n",
        "chain.invoke({\"question\": \"How many employees are there\"})"
      ],
      "metadata": {
        "colab": {
          "base_uri": "https://localhost:8080/",
          "height": 52
        },
        "id": "Icl_sTcKl_LV",
        "outputId": "4b3beca2-a3db-47b9-efb8-478a25b0a296"
      },
      "execution_count": null,
      "outputs": [
        {
          "output_type": "execute_result",
          "data": {
            "text/plain": [
              "'Error: (sqlite3.OperationalError) near \"SQLQuery\": syntax error\\n[SQL: SQLQuery: SELECT COUNT(*) FROM employees;]\\n(Background on this error at: https://sqlalche.me/e/20/e3q8)'"
            ],
            "application/vnd.google.colaboratory.intrinsic+json": {
              "type": "string"
            }
          },
          "metadata": {},
          "execution_count": 22
        }
      ]
    },
    {
      "cell_type": "code",
      "source": [
        "chain.get_prompts()[0].pretty_print()"
      ],
      "metadata": {
        "colab": {
          "base_uri": "https://localhost:8080/"
        },
        "id": "FY_jaH_bmIL6",
        "outputId": "948b952b-f73a-4e77-fe3e-541ba6a1bd0e"
      },
      "execution_count": null,
      "outputs": [
        {
          "output_type": "stream",
          "name": "stdout",
          "text": [
            "You are a SQLite expert. Given an input question, first create a syntactically correct SQLite query to run, then look at the results of the query and return the answer to the input question.\n",
            "Unless the user specifies in the question a specific number of examples to obtain, query for at most 5 results using the LIMIT clause as per SQLite. You can order the results to return the most informative data in the database.\n",
            "Never query for all columns from a table. You must query only the columns that are needed to answer the question. Wrap each column name in double quotes (\") to denote them as delimited identifiers.\n",
            "Pay attention to use only the column names you can see in the tables below. Be careful to not query for columns that do not exist. Also, pay attention to which column is in which table.\n",
            "Pay attention to use date('now') function to get the current date, if the question involves \"today\".\n",
            "\n",
            "Use the following format:\n",
            "\n",
            "Question: Question here\n",
            "SQLQuery: SQL Query to run\n",
            "SQLResult: Result of the SQLQuery\n",
            "Answer: Final answer here\n",
            "\n",
            "Only use the following tables:\n",
            "\u001b[33;1m\u001b[1;3m{table_info}\u001b[0m\n",
            "\n",
            "Question: \u001b[33;1m\u001b[1;3m{input}\u001b[0m\n"
          ]
        }
      ]
    },
    {
      "cell_type": "code",
      "source": [
        "from langchain_community.tools.sql_database.tool import QuerySQLDataBaseTool\n",
        "from langchain_core.prompts import PromptTemplate\n",
        "\n",
        "execute_query = QuerySQLDataBaseTool(db=db)\n",
        "\n",
        "template = '''Given an input question, first create a syntactically correct {dialect} query to run, then look at the results of the query and return the {top_k} answer.\n",
        "Use the following format:\n",
        "\n",
        "Question: \"Question here\"\n",
        "\"SQL Query to run\"\n",
        "SQLResult: \"Result of the SQLQuery\"\n",
        "Answer: \"Final answer here\"\n",
        "\n",
        "Only use the following tables:\n",
        "\n",
        "{table_info}.\n",
        "\n",
        "Question: {input}'''\n",
        "prompt = PromptTemplate.from_template(template)\n",
        "\n",
        "write_query = create_sql_query_chain(llm, db, prompt)\n",
        "chain = write_query | execute_query\n",
        "chain.invoke({\"question\": \"How many employees are there\"})"
      ],
      "metadata": {
        "colab": {
          "base_uri": "https://localhost:8080/",
          "height": 35
        },
        "id": "r9_JsnIMj1o8",
        "outputId": "29d33acf-6a69-45da-d9da-c0596c5c7c66"
      },
      "execution_count": null,
      "outputs": [
        {
          "output_type": "execute_result",
          "data": {
            "text/plain": [
              "'[(8,)]'"
            ],
            "application/vnd.google.colaboratory.intrinsic+json": {
              "type": "string"
            }
          },
          "metadata": {},
          "execution_count": 25
        }
      ]
    },
    {
      "cell_type": "markdown",
      "source": [
        "#Answer the question\n",
        "Now that we’ve got a way to automatically generate and execute queries, we just need to combine the original question and SQL query result to generate a final answer."
      ],
      "metadata": {
        "id": "TbItDxiEnxg2"
      }
    },
    {
      "cell_type": "code",
      "source": [
        "from operator import itemgetter\n",
        "\n",
        "from langchain_core.output_parsers import StrOutputParser\n",
        "from langchain_core.prompts import PromptTemplate\n",
        "from langchain_core.runnables import RunnablePassthrough\n",
        "\n",
        "answer_prompt = PromptTemplate.from_template(\n",
        "    \"\"\"Given the following user question, corresponding SQL query, and SQL result, answer the user question.\n",
        "\n",
        "Question: {question}\n",
        "{query}\n",
        "SQL Result: {result}\n",
        "Answer: \"\"\"\n",
        ")\n",
        "\n",
        "answer = answer_prompt | llm | StrOutputParser()\n",
        "chain = (\n",
        "    RunnablePassthrough.assign(query=write_query).assign(\n",
        "        result=itemgetter(\"query\") | execute_query\n",
        "    )\n",
        "    | answer\n",
        ")\n",
        "\n",
        "chain.invoke({\"question\": \"How many employees are there\"})"
      ],
      "metadata": {
        "colab": {
          "base_uri": "https://localhost:8080/",
          "height": 35
        },
        "id": "6MpiJVumkngx",
        "outputId": "92740ab7-ff4b-44f4-9505-fa45be17c6fb"
      },
      "execution_count": null,
      "outputs": [
        {
          "output_type": "execute_result",
          "data": {
            "text/plain": [
              "'There are 8 employees.'"
            ],
            "application/vnd.google.colaboratory.intrinsic+json": {
              "type": "string"
            }
          },
          "metadata": {},
          "execution_count": 26
        }
      ]
    },
    {
      "cell_type": "markdown",
      "source": [
        "# Agents\n",
        "LangChain has an SQL Agent which provides a more flexible way of interacting with SQL databases. The main advantages of using the SQL Agent are:\n",
        "\n",
        "It can answer questions based on the databases’ schema as well as on the databases’ content (like describing a specific table).\n",
        "It can recover from errors by running a generated query, catching the traceback and regenerating it correctly.\n",
        "It can answer questions that require multiple dependent queries.\n",
        "It will save tokens by only considering the schema from relevant tables.\n",
        "To initialize the agent, we use create_sql_agent function. This agent contains the SQLDatabaseToolkit which contains tools to:\n",
        "\n",
        "- Create and execute queries\n",
        "- Check query syntax\n",
        "- Retrieve table descriptions"
      ],
      "metadata": {
        "id": "R9bV_Z0bn5Kv"
      }
    },
    {
      "cell_type": "code",
      "source": [
        "from langchain_community.agent_toolkits import create_sql_agent\n",
        "from langchain.agents.agent_types import AgentType\n",
        "from langchain.agents.agent_toolkits import SQLDatabaseToolkit\n",
        "\n",
        "agent_executor = create_sql_agent(llm,\n",
        "                                  toolkit=SQLDatabaseToolkit(db=db, llm=llm),\n",
        "                                  agent_type=AgentType.ZERO_SHOT_REACT_DESCRIPTION,\n",
        "                                  verbose=True)"
      ],
      "metadata": {
        "id": "JBXPleWnn7XM"
      },
      "execution_count": null,
      "outputs": []
    },
    {
      "cell_type": "code",
      "source": [
        "agent_executor.invoke(\n",
        "    {\n",
        "        \"input\": \"List the total sales per country. Which country's customers spent the most?\"\n",
        "    }\n",
        ")"
      ],
      "metadata": {
        "colab": {
          "base_uri": "https://localhost:8080/"
        },
        "id": "R0oVUppboHEe",
        "outputId": "16cb7d33-1eb6-4aaf-9eab-9e7502541d00"
      },
      "execution_count": null,
      "outputs": [
        {
          "output_type": "stream",
          "name": "stdout",
          "text": [
            "\n",
            "\n",
            "\u001b[1m> Entering new AgentExecutor chain...\u001b[0m\n",
            "\u001b[32;1m\u001b[1;3mI should first list all the countries and their total sales. Then I can find the country with the highest total sales.\n",
            "Action: sql_db_list_tables\n",
            "Action Input: \u001b[0m\u001b[38;5;200m\u001b[1;3malbums, artists, customers, employees, genres, invoice_items, invoices, media_types, playlist_track, playlists, tracks\u001b[0m\u001b[32;1m\u001b[1;3mAction: sql_db_query_checker\n",
            "Action Input: SELECT Country, SUM(Total) AS TotalSales FROM Invoices GROUP BY Country ORDER BY TotalSales DESC\u001b[0m\u001b[36;1m\u001b[1;3mSELECT Country, SUM(Total) AS TotalSales \n",
            "FROM Invoices \n",
            "GROUP BY Country \n",
            "ORDER BY TotalSales DESC\u001b[0m\u001b[32;1m\u001b[1;3mAction: sql_db_query\n",
            "Action Input: SELECT Country, SUM(Total) AS TotalSales FROM Invoices GROUP BY Country ORDER BY TotalSales DESC\u001b[0m\u001b[36;1m\u001b[1;3mError: (sqlite3.OperationalError) no such column: Country\n",
            "[SQL: SELECT Country, SUM(Total) AS TotalSales FROM Invoices GROUP BY Country ORDER BY TotalSales DESC]\n",
            "(Background on this error at: https://sqlalche.me/e/20/e3q8)\u001b[0m\u001b[32;1m\u001b[1;3mAction: sql_db_schema\n",
            "Action Input: Invoices\u001b[0m\u001b[33;1m\u001b[1;3mError: table_names {'Invoices'} not found in database\u001b[0m\u001b[32;1m\u001b[1;3mAction: sql_db_list_tables\n",
            "Action Input: \u001b[0m\u001b[38;5;200m\u001b[1;3malbums, artists, customers, employees, genres, invoice_items, invoices, media_types, playlist_track, playlists, tracks\u001b[0m\u001b[32;1m\u001b[1;3mAction: sql_db_query_checker\n",
            "Action Input: SELECT c.Country, SUM(ii.Quantity * ii.UnitPrice) AS TotalSales FROM Customers c JOIN Invoices i ON c.CustomerId = i.CustomerId JOIN Invoice_Items ii ON i.InvoiceId = ii.InvoiceId GROUP BY c.Country ORDER BY TotalSales DESC\u001b[0m\u001b[36;1m\u001b[1;3m```sql\n",
            "SELECT c.Country, SUM(ii.Quantity * ii.UnitPrice) AS TotalSales \n",
            "FROM Customers c\n",
            "JOIN Invoices i ON c.CustomerId = i.CustomerId\n",
            "JOIN Invoice_Items ii ON i.InvoiceId = ii.InvoiceId\n",
            "GROUP BY c.Country\n",
            "ORDER BY TotalSales DESC;\n",
            "```\u001b[0m\u001b[32;1m\u001b[1;3mAction: sql_db_query\n",
            "Action Input: SELECT c.Country, SUM(ii.Quantity * ii.UnitPrice) AS TotalSales FROM Customers c JOIN Invoices i ON c.CustomerId = i.CustomerId JOIN Invoice_Items ii ON i.InvoiceId = ii.InvoiceId GROUP BY c.Country ORDER BY TotalSales DESC\u001b[0m\u001b[36;1m\u001b[1;3m[('USA', 523.060000000003), ('Canada', 303.9600000000013), ('France', 195.1000000000003), ('Brazil', 190.10000000000028), ('Germany', 156.48), ('United Kingdom', 112.85999999999979), ('Czech Republic', 90.23999999999997), ('Portugal', 77.23999999999998), ('India', 75.25999999999998), ('Chile', 46.62000000000002), ('Ireland', 45.62000000000001), ('Hungary', 45.62000000000001), ('Austria', 42.62), ('Finland', 41.62), ('Netherlands', 40.62), ('Norway', 39.61999999999999), ('Sweden', 38.61999999999999), ('Spain', 37.61999999999999), ('Poland', 37.61999999999999), ('Italy', 37.61999999999999), ('Denmark', 37.61999999999999), ('Belgium', 37.61999999999999), ('Australia', 37.61999999999999), ('Argentina', 37.61999999999999)]\u001b[0m\u001b[32;1m\u001b[1;3mFinal Answer: The USA's customers spent the most money, with a total of 523.06.\u001b[0m\n",
            "\n",
            "\u001b[1m> Finished chain.\u001b[0m\n"
          ]
        },
        {
          "output_type": "execute_result",
          "data": {
            "text/plain": [
              "{'input': \"List the total sales per country. Which country's customers spent the most?\",\n",
              " 'output': \"The USA's customers spent the most money, with a total of 523.06.\"}"
            ]
          },
          "metadata": {},
          "execution_count": 32
        }
      ]
    }
  ]
}