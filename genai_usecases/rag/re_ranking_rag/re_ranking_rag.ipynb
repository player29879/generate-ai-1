{
  "nbformat": 4,
  "nbformat_minor": 0,
  "metadata": {
    "colab": {
      "provenance": []
    },
    "kernelspec": {
      "name": "python3",
      "display_name": "Python 3"
    },
    "language_info": {
      "name": "python"
    }
  },
  "cells": [
    {
      "cell_type": "markdown",
      "source": [
        "# Re-ranking RAG\n",
        "\n",
        "Re-ranking is an advanced technique used to improve the relevance and quality of retrieved documents before they are fed into the language model for generation. It's typically applied after the initial retrieval step but before the generation step.\n",
        "\n",
        "## Here's a detailed explanation with examples:\n",
        "\n",
        "## Basic Concept:\n",
        "\n",
        "In a typical RAG system, documents are initially retrieved based on their similarity to the query, often using vector similarity search. Re-ranking takes these initially retrieved documents and applies additional criteria or more sophisticated algorithms to reorder them, aiming to bring the most relevant documents to the top."
      ],
      "metadata": {
        "id": "HxxOWz9dpsYj"
      }
    },
    {
      "cell_type": "markdown",
      "source": [
        "# Install required libraries"
      ],
      "metadata": {
        "id": "Y3axTI0sp5Hg"
      }
    },
    {
      "cell_type": "code",
      "source": [
        "!pip install -q -U \\\n",
        "     Sentence-transformers==3.0.1 \\\n",
        "     langchain==0.2.11 \\\n",
        "     langchain-google-genai==1.0.7 \\\n",
        "     langchain-community==0.2.10 \\\n",
        "     langchain-huggingface==0.0.3 \\\n",
        "     einops==0.8.0 \\\n",
        "     flashrank==0.2.8 \\\n",
        "     faiss_cpu==1.8.0.post1"
      ],
      "metadata": {
        "id": "ShxTNxM5gqtr"
      },
      "execution_count": null,
      "outputs": []
    },
    {
      "cell_type": "markdown",
      "source": [
        "# Import related libraries related to Langchain, HuggingfaceEmbedding"
      ],
      "metadata": {
        "id": "9jJ1vqs-p_Zx"
      }
    },
    {
      "cell_type": "code",
      "source": [
        "# Import Libraries\n",
        "from langchain_huggingface import HuggingFaceEmbeddings\n",
        "from langchain_google_genai import (\n",
        "    ChatGoogleGenerativeAI,\n",
        "    HarmBlockThreshold,\n",
        "    HarmCategory,\n",
        ")\n",
        "from langchain.retrievers import ContextualCompressionRetriever\n",
        "from langchain.retrievers.document_compressors import (\n",
        "    LLMChainExtractor,\n",
        "    EmbeddingsFilter,\n",
        ")\n",
        "from langchain.text_splitter import CharacterTextSplitter"
      ],
      "metadata": {
        "id": "RL-3LsYogoH5"
      },
      "execution_count": null,
      "outputs": []
    },
    {
      "cell_type": "code",
      "source": [
        "import getpass\n",
        "import os"
      ],
      "metadata": {
        "id": "GT55z5AkhyOW"
      },
      "execution_count": null,
      "outputs": []
    },
    {
      "cell_type": "markdown",
      "source": [
        "# Provide Google API Key. You can create Google API key at following lin\n",
        "\n",
        "[Google Gemini-Pro API Creation Link](https://console.cloud.google.com/apis/credentials)\n",
        "\n",
        "[YouTube Video](https://www.youtube.com/watch?v=ZHX7zxvDfoc)\n",
        "\n"
      ],
      "metadata": {
        "id": "F6UeDlrgqI2A"
      }
    },
    {
      "cell_type": "code",
      "source": [
        "os.environ[\"GOOGLE_API_KEY\"] = getpass.getpass()"
      ],
      "metadata": {
        "colab": {
          "base_uri": "https://localhost:8080/"
        },
        "id": "yobvrD3glfd4",
        "outputId": "5223a3be-72d7-480e-e75d-644fedf1bb42"
      },
      "execution_count": null,
      "outputs": [
        {
          "name": "stdout",
          "output_type": "stream",
          "text": [
            "··········\n"
          ]
        }
      ]
    },
    {
      "cell_type": "markdown",
      "source": [
        "# Provide Huggingface API Key. You can create Huggingface API key at following lin\n",
        "\n",
        "[Higgingface API Creation Link](https://huggingface.co/settings/tokens)\n",
        "\n",
        "\n"
      ],
      "metadata": {
        "id": "S1dLpYboqeIK"
      }
    },
    {
      "cell_type": "code",
      "source": [
        "os.environ[\"HF_TOKEN\"] = getpass.getpass()"
      ],
      "metadata": {
        "colab": {
          "base_uri": "https://localhost:8080/"
        },
        "id": "TQ6scBGZlhpG",
        "outputId": "5956fd3b-6b5c-4eb5-f7ab-d7e1f234c6ad"
      },
      "execution_count": null,
      "outputs": [
        {
          "name": "stdout",
          "output_type": "stream",
          "text": [
            "··········\n"
          ]
        }
      ]
    },
    {
      "cell_type": "code",
      "source": [
        "# Helper function for printing docs\n",
        "def pretty_print_docs(docs):\n",
        "    # Iterate through each document and format the output\n",
        "    for i, d in enumerate(docs):\n",
        "        print(f\"{'-' * 50}\\nDocument {i + 1}:\")\n",
        "        print(f\"Content:\\n{d.page_content}\\n\")\n",
        "        print(\"Metadata:\")\n",
        "        for key, value in d.metadata.items():\n",
        "            print(f\"  {key}: {value}\")\n",
        "    print(f\"{'-' * 50}\")  # Final separator for clarity\n",
        "\n",
        "# Example usage\n",
        "# Assuming `docs` is a list of Document objects\n"
      ],
      "metadata": {
        "id": "VC4pm6cPyhue"
      },
      "execution_count": null,
      "outputs": []
    },
    {
      "cell_type": "code",
      "source": [
        "# Import necessary libraries\n",
        "from langchain_community.document_loaders import WebBaseLoader\n",
        "from langchain_community.vectorstores import FAISS\n",
        "from langchain_text_splitters import RecursiveCharacterTextSplitter\n",
        "\n",
        "# Load documents from a web URL\n",
        "documents = WebBaseLoader(\"https://github.com/hwchase17/chroma-langchain/blob/master/state_of_the_union.txt\").load()\n",
        "\n",
        "# Split documents into chunks of 500 characters with 100 characters overlap\n",
        "text_splitter = RecursiveCharacterTextSplitter(chunk_size=500, chunk_overlap=100)\n",
        "texts = text_splitter.split_documents(documents)\n",
        "\n",
        "# Add unique IDs to each text chunk\n",
        "for idx, text in enumerate(texts):\n",
        "    text.metadata[\"id\"] = idx\n",
        "\n",
        "# Create embeddings for the text chunks\n",
        "embedding = HuggingFaceEmbeddings(model_name=\"nomic-ai/nomic-embed-text-v1.5\", model_kwargs = {'trust_remote_code': True})\n",
        "\n",
        "# Initialize a FAISS retriever with the text embeddings\n",
        "retriever = FAISS.from_documents(texts, embedding).as_retriever(search_kwargs={\"k\": 20})\n",
        "\n",
        "# Define a query and retrieve relevant documents\n",
        "query = \"What did the president say about Ketanji Brown Jackson\"\n",
        "docs = retriever.invoke(query)\n",
        "#print(docs)\n",
        "# Print the retrieved documents\n",
        "pretty_print_docs(docs)"
      ],
      "metadata": {
        "colab": {
          "base_uri": "https://localhost:8080/"
        },
        "id": "KB5uBtu9yia2",
        "outputId": "5c10f876-8138-4b9d-a3b5-982e082abf30"
      },
      "execution_count": null,
      "outputs": [
        {
          "output_type": "stream",
          "name": "stderr",
          "text": [
            "WARNING:transformers_modules.nomic-ai.nomic-bert-2048.e55a7d4324f65581af5f483e830b80f34680e8ff.modeling_hf_nomic_bert:<All keys matched successfully>\n"
          ]
        },
        {
          "output_type": "stream",
          "name": "stdout",
          "text": [
            "--------------------------------------------------\n",
            "Document 1:\n",
            "Content:\n",
            "One of the most serious constitutional responsibilities a President has is nominating someone to serve on the United States Supreme Court. \n",
            "And I did that 4 days ago, when I nominated Circuit Court of Appeals Judge Ketanji Brown Jackson. One of our nation’s top legal minds, who will continue Justice Breyer’s legacy of excellence.\n",
            "\n",
            "Metadata:\n",
            "  source: https://github.com/hwchase17/chroma-langchain/blob/master/state_of_the_union.txt\n",
            "  title: chroma-langchain/state_of_the_union.txt at master · hwchase17/chroma-langchain · GitHub\n",
            "  description: Contribute to hwchase17/chroma-langchain development by creating an account on GitHub.\n",
            "  language: en\n",
            "  id: 88\n",
            "--------------------------------------------------\n",
            "Document 2:\n",
            "Content:\n",
            "And tonight, I’m announcing that the Justice Department will name a chief prosecutor for pandemic fraud. \n",
            "By the end of this year, the deficit will be down to less than half what it was before I took office.  \n",
            "The only president ever to cut the deficit by more than one trillion dollars in a single year. \n",
            "Lowering your costs also means demanding more competition. \n",
            "I’m a capitalist, but capitalism without competition isn’t capitalism. \n",
            "It’s exploitation—and it drives up prices.\n",
            "\n",
            "Metadata:\n",
            "  source: https://github.com/hwchase17/chroma-langchain/blob/master/state_of_the_union.txt\n",
            "  title: chroma-langchain/state_of_the_union.txt at master · hwchase17/chroma-langchain · GitHub\n",
            "  description: Contribute to hwchase17/chroma-langchain development by creating an account on GitHub.\n",
            "  language: en\n",
            "  id: 65\n",
            "--------------------------------------------------\n",
            "Document 3:\n",
            "Content:\n",
            "As I said last year, especially to our younger transgender Americans, I will always have your back as your President, so you can be yourself and reach your God-given potential. \n",
            "While it often appears that we never agree, that isn’t true. I signed 80 bipartisan bills into law last year. From preventing government shutdowns to protecting Asian-Americans from still-too-common hate crimes to reforming military justice.\n",
            "\n",
            "Metadata:\n",
            "  source: https://github.com/hwchase17/chroma-langchain/blob/master/state_of_the_union.txt\n",
            "  title: chroma-langchain/state_of_the_union.txt at master · hwchase17/chroma-langchain · GitHub\n",
            "  description: Contribute to hwchase17/chroma-langchain development by creating an account on GitHub.\n",
            "  language: en\n",
            "  id: 94\n",
            "--------------------------------------------------\n",
            "Document 4:\n",
            "Content:\n",
            "I know. \n",
            "One of those soldiers was my son Major Beau Biden. \n",
            "We don’t know for sure if a burn pit was the cause of his brain cancer, or the diseases of so many of our troops. \n",
            "But I’m committed to finding out everything we can. \n",
            "Committed to military families like Danielle Robinson from Ohio. \n",
            "The widow of Sergeant First Class Heath Robinson.  \n",
            "He was born a soldier. Army National Guard. Combat medic in Kosovo and Iraq.\n",
            "\n",
            "Metadata:\n",
            "  source: https://github.com/hwchase17/chroma-langchain/blob/master/state_of_the_union.txt\n",
            "  title: chroma-langchain/state_of_the_union.txt at master · hwchase17/chroma-langchain · GitHub\n",
            "  description: Contribute to hwchase17/chroma-langchain development by creating an account on GitHub.\n",
            "  language: en\n",
            "  id: 101\n",
            "--------------------------------------------------\n",
            "Document 5:\n",
            "Content:\n",
            "I understand. \n",
            "I remember when my Dad had to leave our home in Scranton, Pennsylvania to find work. I grew up in a family where if the price of food went up, you felt it. \n",
            "That’s why one of the first things I did as President was fight to pass the American Rescue Plan.  \n",
            "Because people were hurting. We needed to act, and we did. \n",
            "Few pieces of legislation have done more in a critical moment in our history to lift us out of crisis.\n",
            "\n",
            "Metadata:\n",
            "  source: https://github.com/hwchase17/chroma-langchain/blob/master/state_of_the_union.txt\n",
            "  title: chroma-langchain/state_of_the_union.txt at master · hwchase17/chroma-langchain · GitHub\n",
            "  description: Contribute to hwchase17/chroma-langchain development by creating an account on GitHub.\n",
            "  language: en\n",
            "  id: 35\n",
            "--------------------------------------------------\n",
            "Document 6:\n",
            "Content:\n",
            "He was born a soldier. Army National Guard. Combat medic in Kosovo and Iraq. \n",
            "Stationed near Baghdad, just yards from burn pits the size of football fields. \n",
            "Heath’s widow Danielle is here with us tonight. They loved going to Ohio State football games. He loved building Legos with their daughter. \n",
            "But cancer from prolonged exposure to burn pits ravaged Heath’s lungs and body. \n",
            "Danielle says Heath was a fighter to the very end. \n",
            "He didn’t know how to stop fighting, and neither did she.\n",
            "\n",
            "Metadata:\n",
            "  source: https://github.com/hwchase17/chroma-langchain/blob/master/state_of_the_union.txt\n",
            "  title: chroma-langchain/state_of_the_union.txt at master · hwchase17/chroma-langchain · GitHub\n",
            "  description: Contribute to hwchase17/chroma-langchain development by creating an account on GitHub.\n",
            "  language: en\n",
            "  id: 102\n",
            "--------------------------------------------------\n",
            "Document 7:\n",
            "Content:\n",
            "Vice President Harris and I ran for office with a new economic vision for America. \n",
            "Invest in America. Educate Americans. Grow the workforce. Build the economy from the bottom up  and the middle out, not from the top down.  \n",
            "Because we know that when the middle class grows, the poor have a ladder up and the wealthy do very well. \n",
            "America used to have the best roads, bridges, and airports on Earth. \n",
            "Now our infrastructure is ranked 13th in the world.\n",
            "\n",
            "Metadata:\n",
            "  source: https://github.com/hwchase17/chroma-langchain/blob/master/state_of_the_union.txt\n",
            "  title: chroma-langchain/state_of_the_union.txt at master · hwchase17/chroma-langchain · GitHub\n",
            "  description: Contribute to hwchase17/chroma-langchain development by creating an account on GitHub.\n",
            "  language: en\n",
            "  id: 39\n",
            "--------------------------------------------------\n",
            "Document 8:\n",
            "Content:\n",
            "Because I see the future that is within our grasp. \n",
            "Because I know there is simply nothing beyond our capacity. \n",
            "We are the only nation on Earth that has always turned every crisis we have faced into an opportunity. \n",
            "The only nation that can be defined by a single word: possibilities. \n",
            "So on this night, in our 245th year as a nation, I have come to report on the State of the Union. \n",
            "And my report is this: the State of the Union is strong—because you, the American people, are strong.\n",
            "\n",
            "Metadata:\n",
            "  source: https://github.com/hwchase17/chroma-langchain/blob/master/state_of_the_union.txt\n",
            "  title: chroma-langchain/state_of_the_union.txt at master · hwchase17/chroma-langchain · GitHub\n",
            "  description: Contribute to hwchase17/chroma-langchain development by creating an account on GitHub.\n",
            "  language: en\n",
            "  id: 108\n",
            "--------------------------------------------------\n",
            "Document 9:\n",
            "Content:\n",
            "Speaker, Madam Vice President, our First Lady and Second Gentleman. Members of Congress and the Cabinet. Justices of the Supreme Court. My fellow Americans.\n",
            "\n",
            "Metadata:\n",
            "  source: https://github.com/hwchase17/chroma-langchain/blob/master/state_of_the_union.txt\n",
            "  title: chroma-langchain/state_of_the_union.txt at master · hwchase17/chroma-langchain · GitHub\n",
            "  description: Contribute to hwchase17/chroma-langchain development by creating an account on GitHub.\n",
            "  language: en\n",
            "  id: 16\n",
            "--------------------------------------------------\n",
            "Document 10:\n",
            "Content:\n",
            "To all Americans, I will be honest with you, as I’ve always promised. A Russian dictator, invading a foreign country, has costs around the world. \n",
            "And I’m taking robust action to make sure the pain of our sanctions  is targeted at Russia’s economy. And I will use every tool at our disposal to protect American businesses and consumers. \n",
            "Tonight, I can announce that the United States has worked with 30 other countries to release 60 Million barrels of oil from reserves around the world.\n",
            "\n",
            "Metadata:\n",
            "  source: https://github.com/hwchase17/chroma-langchain/blob/master/state_of_the_union.txt\n",
            "  title: chroma-langchain/state_of_the_union.txt at master · hwchase17/chroma-langchain · GitHub\n",
            "  description: Contribute to hwchase17/chroma-langchain development by creating an account on GitHub.\n",
            "  language: en\n",
            "  id: 30\n",
            "--------------------------------------------------\n",
            "Document 11:\n",
            "Content:\n",
            "A former top litigator in private practice. A former federal public defender. And from a family of public school educators and police officers. A consensus builder. Since she’s been nominated, she’s received a broad range of support—from the Fraternal Order of Police to former judges appointed by Democrats and Republicans. \n",
            "And if we are to advance liberty and justice, we need to secure the Border and fix the immigration system.\n",
            "\n",
            "Metadata:\n",
            "  source: https://github.com/hwchase17/chroma-langchain/blob/master/state_of_the_union.txt\n",
            "  title: chroma-langchain/state_of_the_union.txt at master · hwchase17/chroma-langchain · GitHub\n",
            "  description: Contribute to hwchase17/chroma-langchain development by creating an account on GitHub.\n",
            "  language: en\n",
            "  id: 89\n",
            "--------------------------------------------------\n",
            "Document 12:\n",
            "Content:\n",
            "So let’s not abandon our streets. Or choose between safety and equal justice. \n",
            "Let’s come together to protect our communities, restore trust, and hold law enforcement accountable. \n",
            "That’s why the Justice Department required body cameras, banned chokeholds, and restricted no-knock warrants for its officers.\n",
            "\n",
            "Metadata:\n",
            "  source: https://github.com/hwchase17/chroma-langchain/blob/master/state_of_the_union.txt\n",
            "  title: chroma-langchain/state_of_the_union.txt at master · hwchase17/chroma-langchain · GitHub\n",
            "  description: Contribute to hwchase17/chroma-langchain development by creating an account on GitHub.\n",
            "  language: en\n",
            "  id: 83\n",
            "--------------------------------------------------\n",
            "Document 13:\n",
            "Content:\n",
            "He will never extinguish their love of freedom. He will never weaken the resolve of the free world. \n",
            "We meet tonight in an America that has lived through two of the hardest years this nation has ever faced. \n",
            "The pandemic has been punishing. \n",
            "And so many families are living paycheck to paycheck, struggling to keep up with the rising cost of food, gas, housing, and so much more. \n",
            "I understand.\n",
            "\n",
            "Metadata:\n",
            "  source: https://github.com/hwchase17/chroma-langchain/blob/master/state_of_the_union.txt\n",
            "  title: chroma-langchain/state_of_the_union.txt at master · hwchase17/chroma-langchain · GitHub\n",
            "  description: Contribute to hwchase17/chroma-langchain development by creating an account on GitHub.\n",
            "  language: en\n",
            "  id: 34\n",
            "--------------------------------------------------\n",
            "Document 14:\n",
            "Content:\n",
            "For the past 40 years we were told that if we gave tax breaks to those at the very top, the benefits would trickle down to everyone else. \n",
            "But that trickle-down theory led to weaker economic growth, lower wages, bigger deficits, and the widest gap between those at the top and everyone else in nearly a century. \n",
            "Vice President Harris and I ran for office with a new economic vision for America.\n",
            "\n",
            "Metadata:\n",
            "  source: https://github.com/hwchase17/chroma-langchain/blob/master/state_of_the_union.txt\n",
            "  title: chroma-langchain/state_of_the_union.txt at master · hwchase17/chroma-langchain · GitHub\n",
            "  description: Contribute to hwchase17/chroma-langchain development by creating an account on GitHub.\n",
            "  language: en\n",
            "  id: 38\n",
            "--------------------------------------------------\n",
            "Document 15:\n",
            "Content:\n",
            "We cannot let this happen. \n",
            "Tonight. I call on the Senate to: Pass the Freedom to Vote Act. Pass the John Lewis Voting Rights Act. And while you’re at it, pass the Disclose Act so Americans can know who is funding our elections. \n",
            "Tonight, I’d like to honor someone who has dedicated his life to serve this country: Justice Stephen Breyer—an Army veteran, Constitutional scholar, and retiring Justice of the United States Supreme Court. Justice Breyer, thank you for your service.\n",
            "\n",
            "Metadata:\n",
            "  source: https://github.com/hwchase17/chroma-langchain/blob/master/state_of_the_union.txt\n",
            "  title: chroma-langchain/state_of_the_union.txt at master · hwchase17/chroma-langchain · GitHub\n",
            "  description: Contribute to hwchase17/chroma-langchain development by creating an account on GitHub.\n",
            "  language: en\n",
            "  id: 87\n",
            "--------------------------------------------------\n",
            "Document 16:\n",
            "Content:\n",
            "Last year COVID-19 kept us apart. This year we are finally together again. \n",
            "Tonight, we meet as Democrats Republicans and Independents. But most importantly as Americans. \n",
            "With a duty to one another to the American people to the Constitution. \n",
            "And with an unwavering resolve that freedom will always triumph over tyranny. \n",
            "Six days ago, Russia’s Vladimir Putin sought to shake the foundations of the free world thinking he could make it bend to his menacing ways. But he badly miscalculated.\n",
            "\n",
            "Metadata:\n",
            "  source: https://github.com/hwchase17/chroma-langchain/blob/master/state_of_the_union.txt\n",
            "  title: chroma-langchain/state_of_the_union.txt at master · hwchase17/chroma-langchain · GitHub\n",
            "  description: Contribute to hwchase17/chroma-langchain development by creating an account on GitHub.\n",
            "  language: en\n",
            "  id: 17\n",
            "--------------------------------------------------\n",
            "Document 17:\n",
            "Content:\n",
            "Joshua is here with us tonight. Yesterday was his birthday. Happy birthday, buddy.  \n",
            "For Joshua, and for the 200,000 other young people with Type 1 diabetes, let’s cap the cost of insulin at $35 a month so everyone can afford it.  \n",
            "Drug companies will still do very well. And while we’re at it let Medicare negotiate lower prices for prescription drugs, like the VA already does.\n",
            "\n",
            "Metadata:\n",
            "  source: https://github.com/hwchase17/chroma-langchain/blob/master/state_of_the_union.txt\n",
            "  title: chroma-langchain/state_of_the_union.txt at master · hwchase17/chroma-langchain · GitHub\n",
            "  description: Contribute to hwchase17/chroma-langchain development by creating an account on GitHub.\n",
            "  language: en\n",
            "  id: 56\n",
            "--------------------------------------------------\n",
            "Document 18:\n",
            "Content:\n",
            "I’m also calling on Congress: pass a law to make sure veterans devastated by toxic exposures in Iraq and Afghanistan finally get the benefits and comprehensive health care they deserve. \n",
            "And fourth, let’s end cancer as we know it. \n",
            "This is personal to me and Jill, to Kamala, and to so many of you. \n",
            "Cancer is the #2 cause of death in America–second only to heart disease. \n",
            "Last month, I announced our plan to supercharge  the Cancer Moonshot that President Obama asked me to lead six years ago.\n",
            "\n",
            "Metadata:\n",
            "  source: https://github.com/hwchase17/chroma-langchain/blob/master/state_of_the_union.txt\n",
            "  title: chroma-langchain/state_of_the_union.txt at master · hwchase17/chroma-langchain · GitHub\n",
            "  description: Contribute to hwchase17/chroma-langchain development by creating an account on GitHub.\n",
            "  language: en\n",
            "  id: 104\n",
            "--------------------------------------------------\n",
            "Document 19:\n",
            "Content:\n",
            "It matters. American diplomacy matters. American resolve matters. \n",
            "Putin’s latest attack on Ukraine was premeditated and unprovoked. \n",
            "He rejected repeated efforts at diplomacy. \n",
            "He thought the West and NATO wouldn’t respond. And he thought he could divide us at home. Putin was wrong. We were ready.  Here is what we did.   \n",
            "We prepared extensively and carefully.\n",
            "\n",
            "Metadata:\n",
            "  source: https://github.com/hwchase17/chroma-langchain/blob/master/state_of_the_union.txt\n",
            "  title: chroma-langchain/state_of_the_union.txt at master · hwchase17/chroma-langchain · GitHub\n",
            "  description: Contribute to hwchase17/chroma-langchain development by creating an account on GitHub.\n",
            "  language: en\n",
            "  id: 21\n",
            "--------------------------------------------------\n",
            "Document 20:\n",
            "Content:\n",
            "Our troops in Iraq and Afghanistan faced many dangers. \n",
            "One was stationed at bases and breathing in toxic smoke from “burn pits” that incinerated wastes of war—medical and hazard material, jet fuel, and more. \n",
            "When they came home, many of the world’s fittest and best trained warriors were never the same. \n",
            "Headaches. Numbness. Dizziness. \n",
            "A cancer that would put them in a flag-draped coffin. \n",
            "I know. \n",
            "One of those soldiers was my son Major Beau Biden.\n",
            "\n",
            "Metadata:\n",
            "  source: https://github.com/hwchase17/chroma-langchain/blob/master/state_of_the_union.txt\n",
            "  title: chroma-langchain/state_of_the_union.txt at master · hwchase17/chroma-langchain · GitHub\n",
            "  description: Contribute to hwchase17/chroma-langchain development by creating an account on GitHub.\n",
            "  language: en\n",
            "  id: 100\n",
            "--------------------------------------------------\n"
          ]
        }
      ]
    },
    {
      "cell_type": "markdown",
      "source": [
        "# Reranking with FlashRank\n",
        "\n",
        "We will wrap our base retriever with a ContextualCompressionRetriever that uses FlashrankRerank as its compressor.\n"
      ],
      "metadata": {
        "id": "ldI_8y3v4ezo"
      }
    },
    {
      "cell_type": "code",
      "source": [
        "# Import necessary classes for contextual compression and document retrieval\n",
        "from langchain.retrievers import ContextualCompressionRetriever\n",
        "# Create re-ranker\n",
        "from langchain.retrievers.document_compressors.flashrank_rerank import FlashrankRerank\n",
        "\n",
        "# Initialize the language model with specified settings\n",
        "llm = ChatGoogleGenerativeAI(model=\"gemini-1.5-pro-latest\", temperature=0.3, safety_settings={\n",
        "          HarmCategory.HARM_CATEGORY_DANGEROUS_CONTENT: HarmBlockThreshold.BLOCK_NONE,\n",
        "        },)\n",
        "\n",
        "# Set up the document compressor using FlashRank\n",
        "compressor = FlashrankRerank()\n",
        "\n",
        "# Create a compression retriever that uses the base retriever and compressor\n",
        "compression_retriever = ContextualCompressionRetriever(\n",
        "    base_compressor=compressor, base_retriever=retriever\n",
        ")\n",
        "\n",
        "# Invoke the compression retriever with a specific query\n",
        "compressed_docs = compression_retriever.invoke(\n",
        "    \"What did the president say about Ketanji Jackson Brown\"\n",
        ")\n",
        "\n",
        "# Print the IDs of the compressed documents retrieved\n",
        "print([doc.metadata[\"id\"] for doc in compressed_docs])"
      ],
      "metadata": {
        "colab": {
          "base_uri": "https://localhost:8080/"
        },
        "id": "soK9RiZm4afb",
        "outputId": "ff7745cb-a5b4-4d8a-b1ba-3401dbf86296"
      },
      "execution_count": null,
      "outputs": [
        {
          "output_type": "stream",
          "name": "stdout",
          "text": [
            "[88, 65, 50]\n"
          ]
        }
      ]
    },
    {
      "cell_type": "code",
      "source": [
        "pretty_print_docs(compressed_docs)"
      ],
      "metadata": {
        "colab": {
          "base_uri": "https://localhost:8080/"
        },
        "id": "cyyPLEBJ44Wl",
        "outputId": "af38ec98-f2ce-46d0-dbe8-5d7b04ea30fa"
      },
      "execution_count": null,
      "outputs": [
        {
          "output_type": "stream",
          "name": "stdout",
          "text": [
            "--------------------------------------------------\n",
            "Document 1:\n",
            "Content:\n",
            "One of the most serious constitutional responsibilities a President has is nominating someone to serve on the United States Supreme Court. \n",
            "And I did that 4 days ago, when I nominated Circuit Court of Appeals Judge Ketanji Brown Jackson. One of our nation’s top legal minds, who will continue Justice Breyer’s legacy of excellence.\n",
            "\n",
            "Metadata:\n",
            "  source: https://github.com/hwchase17/chroma-langchain/blob/master/state_of_the_union.txt\n",
            "  title: chroma-langchain/state_of_the_union.txt at master · hwchase17/chroma-langchain · GitHub\n",
            "  description: Contribute to hwchase17/chroma-langchain development by creating an account on GitHub.\n",
            "  language: en\n",
            "  id: 88\n",
            "  relevance_score: 0.9987671971321106\n",
            "--------------------------------------------------\n",
            "Document 2:\n",
            "Content:\n",
            "And tonight, I’m announcing that the Justice Department will name a chief prosecutor for pandemic fraud. \n",
            "By the end of this year, the deficit will be down to less than half what it was before I took office.  \n",
            "The only president ever to cut the deficit by more than one trillion dollars in a single year. \n",
            "Lowering your costs also means demanding more competition. \n",
            "I’m a capitalist, but capitalism without competition isn’t capitalism. \n",
            "It’s exploitation—and it drives up prices.\n",
            "\n",
            "Metadata:\n",
            "  source: https://github.com/hwchase17/chroma-langchain/blob/master/state_of_the_union.txt\n",
            "  title: chroma-langchain/state_of_the_union.txt at master · hwchase17/chroma-langchain · GitHub\n",
            "  description: Contribute to hwchase17/chroma-langchain development by creating an account on GitHub.\n",
            "  language: en\n",
            "  id: 65\n",
            "  relevance_score: 0.9974103569984436\n",
            "--------------------------------------------------\n",
            "Document 3:\n",
            "Content:\n",
            "All told, we created 369,000 new manufacturing jobs in America just last year. \n",
            "Powered by people I’ve met like JoJo Burgess, from generations of union steelworkers from Pittsburgh, who’s here with us tonight. \n",
            "As Ohio Senator Sherrod Brown says, “It’s time to bury the label “Rust Belt.” \n",
            "It’s time. \n",
            "But with all the bright spots in our economy, record job growth and higher wages, too many families are struggling to keep up with the bills.\n",
            "\n",
            "Metadata:\n",
            "  source: https://github.com/hwchase17/chroma-langchain/blob/master/state_of_the_union.txt\n",
            "  title: chroma-langchain/state_of_the_union.txt at master · hwchase17/chroma-langchain · GitHub\n",
            "  description: Contribute to hwchase17/chroma-langchain development by creating an account on GitHub.\n",
            "  language: en\n",
            "  id: 50\n",
            "  relevance_score: 0.9684597849845886\n",
            "--------------------------------------------------\n"
          ]
        }
      ]
    },
    {
      "cell_type": "code",
      "source": [
        "# Import the RetrievalQA chain for question-answering tasks\n",
        "from langchain.chains import RetrievalQA\n",
        "\n",
        "# Create a RetrievalQA chain using the language model and the compression retriever\n",
        "chain = RetrievalQA.from_chain_type(llm=llm, retriever=compression_retriever)\n",
        "\n",
        "# Invoke the chain with a specific query to get a response\n",
        "reponse = chain.invoke(query)\n",
        "\n",
        "# Print the result of the response\n",
        "print(reponse[\"result\"])"
      ],
      "metadata": {
        "colab": {
          "base_uri": "https://localhost:8080/"
        },
        "id": "iNJiqE2I4-KY",
        "outputId": "aa224e13-a825-486e-cd19-2899611b399f"
      },
      "execution_count": null,
      "outputs": [
        {
          "output_type": "stream",
          "name": "stdout",
          "text": [
            "The president said that he nominated Ketanji Brown Jackson to the United States Supreme Court 4 days ago. He referred to her as one of our nation's top legal minds who will continue Justice Breyer's legacy of excellence. \n",
            "\n"
          ]
        }
      ]
    }
  ]
}