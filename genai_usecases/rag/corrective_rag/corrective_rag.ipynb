{
  "nbformat": 4,
  "nbformat_minor": 0,
  "metadata": {
    "colab": {
      "provenance": [],
      "gpuType": "T4"
    },
    "kernelspec": {
      "name": "python3",
      "display_name": "Python 3"
    },
    "language_info": {
      "name": "python"
    },
    "accelerator": "GPU"
  },
  "cells": [
    {
      "cell_type": "markdown",
      "source": [
        "#\tWhat is Corrective-RAG?\n",
        "\n",
        "Corrective RAG is a technique that introduces an additional step to verify and correct the information retrieved before generating the final response. This method aims to reduce errors and inconsistencies in the generated output by cross-checking the retrieved information against known facts or trusted sources. It often involves a separate model or module dedicated to fact-checking and error correction.\n",
        "\n",
        "# Corrective RAG Implementation\n",
        "\n",
        "1. **Initial Retrieval**: We retrieve the top 3 most relevant documents for the query.\n",
        "2. **Initial Response Generation**: Using the retrieved context, we generate an initial response.\n",
        "3. **Critique Generation**: We ask the model to critique its own response, identifying potential errors or missing information.\n",
        "4. **Additional Retrieval**: Based on the critique, we retrieve additional relevant documents.\n",
        "5. **Final Response Generation**: We generate an improved response considering the initial response, critique, and additional context."
      ],
      "metadata": {
        "id": "HxxOWz9dpsYj"
      }
    },
    {
      "cell_type": "markdown",
      "source": [
        "# Install required libraries"
      ],
      "metadata": {
        "id": "Y3axTI0sp5Hg"
      }
    },
    {
      "cell_type": "code",
      "source": [
        "!pip install -q -U \\\n",
        "     Sentence-transformers==3.0.1 \\\n",
        "     langchain==0.2.11 \\\n",
        "     langchain-google-genai==1.0.7 \\\n",
        "     langchain-chroma==0.1.2 \\\n",
        "     langchain-community==0.2.10 \\\n",
        "     einops==0.8.0"
      ],
      "metadata": {
        "id": "ShxTNxM5gqtr",
        "colab": {
          "base_uri": "https://localhost:8080/"
        },
        "outputId": "bbbefe29-8b9b-41a5-8676-5820116796e6"
      },
      "execution_count": 1,
      "outputs": [
        {
          "output_type": "stream",
          "name": "stdout",
          "text": [
            "\u001b[?25l     \u001b[90m━━━━━━━━━━━━━━━━━━━━━━━━━━━━━━━━━━━━━━━━\u001b[0m \u001b[32m0.0/67.3 kB\u001b[0m \u001b[31m?\u001b[0m eta \u001b[36m-:--:--\u001b[0m\r\u001b[2K     \u001b[90m━━━━━━━━━━━━━━━━━━━━━━━━━━━━━━━━━━━━━━━━\u001b[0m \u001b[32m67.3/67.3 kB\u001b[0m \u001b[31m4.9 MB/s\u001b[0m eta \u001b[36m0:00:00\u001b[0m\n",
            "\u001b[?25h  Installing build dependencies ... \u001b[?25l\u001b[?25hdone\n",
            "  Getting requirements to build wheel ... \u001b[?25l\u001b[?25hdone\n",
            "  Preparing metadata (pyproject.toml) ... \u001b[?25l\u001b[?25hdone\n",
            "\u001b[2K     \u001b[90m━━━━━━━━━━━━━━━━━━━━━━━━━━━━━━━━━━━━━━━━\u001b[0m \u001b[32m50.4/50.4 kB\u001b[0m \u001b[31m4.3 MB/s\u001b[0m eta \u001b[36m0:00:00\u001b[0m\n",
            "\u001b[2K   \u001b[90m━━━━━━━━━━━━━━━━━━━━━━━━━━━━━━━━━━━━━━━━\u001b[0m \u001b[32m227.1/227.1 kB\u001b[0m \u001b[31m16.2 MB/s\u001b[0m eta \u001b[36m0:00:00\u001b[0m\n",
            "\u001b[2K   \u001b[90m━━━━━━━━━━━━━━━━━━━━━━━━━━━━━━━━━━━━━━━━\u001b[0m \u001b[32m990.3/990.3 kB\u001b[0m \u001b[31m37.2 MB/s\u001b[0m eta \u001b[36m0:00:00\u001b[0m\n",
            "\u001b[2K   \u001b[90m━━━━━━━━━━━━━━━━━━━━━━━━━━━━━━━━━━━━━━━━\u001b[0m \u001b[32m2.3/2.3 MB\u001b[0m \u001b[31m86.0 MB/s\u001b[0m eta \u001b[36m0:00:00\u001b[0m\n",
            "\u001b[2K   \u001b[90m━━━━━━━━━━━━━━━━━━━━━━━━━━━━━━━━━━━━━━━━\u001b[0m \u001b[32m43.2/43.2 kB\u001b[0m \u001b[31m4.3 MB/s\u001b[0m eta \u001b[36m0:00:00\u001b[0m\n",
            "\u001b[2K   \u001b[90m━━━━━━━━━━━━━━━━━━━━━━━━━━━━━━━━━━━━━━━━\u001b[0m \u001b[32m584.3/584.3 kB\u001b[0m \u001b[31m46.6 MB/s\u001b[0m eta \u001b[36m0:00:00\u001b[0m\n",
            "\u001b[2K   \u001b[90m━━━━━━━━━━━━━━━━━━━━━━━━━━━━━━━━━━━━━━━━\u001b[0m \u001b[32m2.4/2.4 MB\u001b[0m \u001b[31m87.8 MB/s\u001b[0m eta \u001b[36m0:00:00\u001b[0m\n",
            "\u001b[2K   \u001b[90m━━━━━━━━━━━━━━━━━━━━━━━━━━━━━━━━━━━━━━━━\u001b[0m \u001b[32m93.1/93.1 kB\u001b[0m \u001b[31m9.3 MB/s\u001b[0m eta \u001b[36m0:00:00\u001b[0m\n",
            "\u001b[2K   \u001b[90m━━━━━━━━━━━━━━━━━━━━━━━━━━━━━━━━━━━━━━━━\u001b[0m \u001b[32m379.9/379.9 kB\u001b[0m \u001b[31m33.9 MB/s\u001b[0m eta \u001b[36m0:00:00\u001b[0m\n",
            "\u001b[2K   \u001b[90m━━━━━━━━━━━━━━━━━━━━━━━━━━━━━━━━━━━━━━━━\u001b[0m \u001b[32m140.1/140.1 kB\u001b[0m \u001b[31m13.7 MB/s\u001b[0m eta \u001b[36m0:00:00\u001b[0m\n",
            "\u001b[2K   \u001b[90m━━━━━━━━━━━━━━━━━━━━━━━━━━━━━━━━━━━━━━━━\u001b[0m \u001b[32m273.8/273.8 kB\u001b[0m \u001b[31m16.4 MB/s\u001b[0m eta \u001b[36m0:00:00\u001b[0m\n",
            "\u001b[2K   \u001b[90m━━━━━━━━━━━━━━━━━━━━━━━━━━━━━━━━━━━━━━━━\u001b[0m \u001b[32m75.6/75.6 kB\u001b[0m \u001b[31m210.4 kB/s\u001b[0m eta \u001b[36m0:00:00\u001b[0m\n",
            "\u001b[2K   \u001b[90m━━━━━━━━━━━━━━━━━━━━━━━━━━━━━━━━━━━━━━━━\u001b[0m \u001b[32m77.9/77.9 kB\u001b[0m \u001b[31m7.6 MB/s\u001b[0m eta \u001b[36m0:00:00\u001b[0m\n",
            "\u001b[2K   \u001b[90m━━━━━━━━━━━━━━━━━━━━━━━━━━━━━━━━━━━━━━━━\u001b[0m \u001b[32m1.7/1.7 MB\u001b[0m \u001b[31m59.3 MB/s\u001b[0m eta \u001b[36m0:00:00\u001b[0m\n",
            "\u001b[2K   \u001b[90m━━━━━━━━━━━━━━━━━━━━━━━━━━━━━━━━━━━━━━━━\u001b[0m \u001b[32m49.2/49.2 kB\u001b[0m \u001b[31m4.4 MB/s\u001b[0m eta \u001b[36m0:00:00\u001b[0m\n",
            "\u001b[2K   \u001b[90m━━━━━━━━━━━━━━━━━━━━━━━━━━━━━━━━━━━━━━━━\u001b[0m \u001b[32m67.6/67.6 kB\u001b[0m \u001b[31m6.3 MB/s\u001b[0m eta \u001b[36m0:00:00\u001b[0m\n",
            "\u001b[2K   \u001b[90m━━━━━━━━━━━━━━━━━━━━━━━━━━━━━━━━━━━━━━━━\u001b[0m \u001b[32m6.8/6.8 MB\u001b[0m \u001b[31m75.4 MB/s\u001b[0m eta \u001b[36m0:00:00\u001b[0m\n",
            "\u001b[2K   \u001b[90m━━━━━━━━━━━━━━━━━━━━━━━━━━━━━━━━━━━━━━━━\u001b[0m \u001b[32m61.5/61.5 kB\u001b[0m \u001b[31m5.1 MB/s\u001b[0m eta \u001b[36m0:00:00\u001b[0m\n",
            "\u001b[2K   \u001b[90m━━━━━━━━━━━━━━━━━━━━━━━━━━━━━━━━━━━━━━━━\u001b[0m \u001b[32m52.5/52.5 kB\u001b[0m \u001b[31m5.4 MB/s\u001b[0m eta \u001b[36m0:00:00\u001b[0m\n",
            "\u001b[2K   \u001b[90m━━━━━━━━━━━━━━━━━━━━━━━━━━━━━━━━━━━━━━━━\u001b[0m \u001b[32m138.0/138.0 kB\u001b[0m \u001b[31m12.6 MB/s\u001b[0m eta \u001b[36m0:00:00\u001b[0m\n",
            "\u001b[2K   \u001b[90m━━━━━━━━━━━━━━━━━━━━━━━━━━━━━━━━━━━━━━━━\u001b[0m \u001b[32m109.5/109.5 kB\u001b[0m \u001b[31m9.9 MB/s\u001b[0m eta \u001b[36m0:00:00\u001b[0m\n",
            "\u001b[2K   \u001b[90m━━━━━━━━━━━━━━━━━━━━━━━━━━━━━━━━━━━━━━━━\u001b[0m \u001b[32m141.1/141.1 kB\u001b[0m \u001b[31m12.1 MB/s\u001b[0m eta \u001b[36m0:00:00\u001b[0m\n",
            "\u001b[2K   \u001b[90m━━━━━━━━━━━━━━━━━━━━━━━━━━━━━━━━━━━━━━━━\u001b[0m \u001b[32m41.3/41.3 kB\u001b[0m \u001b[31m2.2 MB/s\u001b[0m eta \u001b[36m0:00:00\u001b[0m\n",
            "\u001b[2K   \u001b[90m━━━━━━━━━━━━━━━━━━━━━━━━━━━━━━━━━━━━━━━━\u001b[0m \u001b[32m71.9/71.9 kB\u001b[0m \u001b[31m6.4 MB/s\u001b[0m eta \u001b[36m0:00:00\u001b[0m\n",
            "\u001b[2K   \u001b[90m━━━━━━━━━━━━━━━━━━━━━━━━━━━━━━━━━━━━━━━━\u001b[0m \u001b[32m62.8/62.8 kB\u001b[0m \u001b[31m5.8 MB/s\u001b[0m eta \u001b[36m0:00:00\u001b[0m\n",
            "\u001b[2K   \u001b[90m━━━━━━━━━━━━━━━━━━━━━━━━━━━━━━━━━━━━━━━━\u001b[0m \u001b[32m58.3/58.3 kB\u001b[0m \u001b[31m5.3 MB/s\u001b[0m eta \u001b[36m0:00:00\u001b[0m\n",
            "\u001b[2K   \u001b[90m━━━━━━━━━━━━━━━━━━━━━━━━━━━━━━━━━━━━━━━━\u001b[0m \u001b[32m341.4/341.4 kB\u001b[0m \u001b[31m22.5 MB/s\u001b[0m eta \u001b[36m0:00:00\u001b[0m\n",
            "\u001b[2K   \u001b[90m━━━━━━━━━━━━━━━━━━━━━━━━━━━━━━━━━━━━━━━━\u001b[0m \u001b[32m3.4/3.4 MB\u001b[0m \u001b[31m55.6 MB/s\u001b[0m eta \u001b[36m0:00:00\u001b[0m\n",
            "\u001b[2K   \u001b[90m━━━━━━━━━━━━━━━━━━━━━━━━━━━━━━━━━━━━━━━━\u001b[0m \u001b[32m1.2/1.2 MB\u001b[0m \u001b[31m34.9 MB/s\u001b[0m eta \u001b[36m0:00:00\u001b[0m\n",
            "\u001b[2K   \u001b[90m━━━━━━━━━━━━━━━━━━━━━━━━━━━━━━━━━━━━━━━━\u001b[0m \u001b[32m130.2/130.2 kB\u001b[0m \u001b[31m8.0 MB/s\u001b[0m eta \u001b[36m0:00:00\u001b[0m\n",
            "\u001b[2K   \u001b[90m━━━━━━━━━━━━━━━━━━━━━━━━━━━━━━━━━━━━━━━━\u001b[0m \u001b[32m46.0/46.0 kB\u001b[0m \u001b[31m3.9 MB/s\u001b[0m eta \u001b[36m0:00:00\u001b[0m\n",
            "\u001b[2K   \u001b[90m━━━━━━━━━━━━━━━━━━━━━━━━━━━━━━━━━━━━━━━━\u001b[0m \u001b[32m19.7/19.7 MB\u001b[0m \u001b[31m12.7 MB/s\u001b[0m eta \u001b[36m0:00:00\u001b[0m\n",
            "\u001b[2K   \u001b[90m━━━━━━━━━━━━━━━━━━━━━━━━━━━━━━━━━━━━━━━━\u001b[0m \u001b[32m86.8/86.8 kB\u001b[0m \u001b[31m7.7 MB/s\u001b[0m eta \u001b[36m0:00:00\u001b[0m\n",
            "\u001b[?25h  Building wheel for pypika (pyproject.toml) ... \u001b[?25l\u001b[?25hdone\n"
          ]
        }
      ]
    },
    {
      "cell_type": "markdown",
      "source": [
        "# Import related libraries related to Langchain, HuggingfaceEmbedding"
      ],
      "metadata": {
        "id": "9jJ1vqs-p_Zx"
      }
    },
    {
      "cell_type": "code",
      "source": [
        "from langchain_google_genai import (\n",
        "    ChatGoogleGenerativeAI,\n",
        "    HarmBlockThreshold,\n",
        "    HarmCategory,\n",
        ")\n",
        "from langchain_community.embeddings import HuggingFaceEmbeddings\n",
        "from langchain.vectorstores import Chroma\n",
        "from langchain.text_splitter import RecursiveCharacterTextSplitter\n",
        "from langchain.prompts import ChatPromptTemplate\n",
        "from langchain.schema.runnable import RunnablePassthrough\n",
        "from langchain.schema import Document\n",
        "from langchain.document_loaders import WebBaseLoader"
      ],
      "metadata": {
        "id": "RL-3LsYogoH5"
      },
      "execution_count": 15,
      "outputs": []
    },
    {
      "cell_type": "code",
      "source": [
        "import os\n",
        "import getpass"
      ],
      "metadata": {
        "id": "GT55z5AkhyOW"
      },
      "execution_count": 4,
      "outputs": []
    },
    {
      "cell_type": "markdown",
      "source": [
        "# Provide Google API Key. You can create Google API key at following link\n",
        "\n",
        "[Google Gemini-Pro API Creation Link](https://console.cloud.google.com/apis/credentials)\n",
        "\n",
        "[YouTube Video](https://www.youtube.com/watch?v=ZHX7zxvDfoc)\n",
        "\n"
      ],
      "metadata": {
        "id": "F6UeDlrgqI2A"
      }
    },
    {
      "cell_type": "code",
      "source": [
        "os.environ[\"GOOGLE_API_KEY\"] = getpass.getpass()"
      ],
      "metadata": {
        "colab": {
          "base_uri": "https://localhost:8080/"
        },
        "id": "yobvrD3glfd4",
        "outputId": "03d6b1ab-b6b5-4114-a90a-eceb4af867bf"
      },
      "execution_count": 5,
      "outputs": [
        {
          "name": "stdout",
          "output_type": "stream",
          "text": [
            "··········\n"
          ]
        }
      ]
    },
    {
      "cell_type": "markdown",
      "source": [
        "# Provide Huggingface API Key. You can create Huggingface API key at following link\n",
        "\n",
        "[Higgingface API Creation Link](https://huggingface.co/settings/tokens)\n",
        "\n",
        "\n"
      ],
      "metadata": {
        "id": "S1dLpYboqeIK"
      }
    },
    {
      "cell_type": "code",
      "source": [
        "os.environ[\"HF_TOKEN\"] = getpass.getpass()"
      ],
      "metadata": {
        "colab": {
          "base_uri": "https://localhost:8080/"
        },
        "id": "TQ6scBGZlhpG",
        "outputId": "6e78c482-b7b8-4f87-e42d-6619baa719b8"
      },
      "execution_count": 6,
      "outputs": [
        {
          "name": "stdout",
          "output_type": "stream",
          "text": [
            "··········\n"
          ]
        }
      ]
    },
    {
      "cell_type": "markdown",
      "source": [
        "# Step 1: Load and preprocess data code"
      ],
      "metadata": {
        "id": "oaB23jlCpQhd"
      }
    },
    {
      "cell_type": "code",
      "source": [
        "def load_and_process_data(url):\n",
        "    # Load data from web\n",
        "    loader = WebBaseLoader(url)\n",
        "    data = loader.load()\n",
        "\n",
        "    # Split text into chunks (Experiment with Chunk Size and Chunk Overlap to get optimal chunking)\n",
        "    text_splitter = RecursiveCharacterTextSplitter(chunk_size=500, chunk_overlap=50)\n",
        "    chunks = text_splitter.split_documents(data)\n",
        "\n",
        "    return chunks"
      ],
      "metadata": {
        "id": "azSUjUBugUz3"
      },
      "execution_count": 16,
      "outputs": []
    },
    {
      "cell_type": "markdown",
      "source": [
        "# Step 2: Create vector store code"
      ],
      "metadata": {
        "id": "3JkZFt0wxYQj"
      }
    },
    {
      "cell_type": "code",
      "source": [
        "def create_vector_store(chunks):\n",
        "    embeddings = HuggingFaceEmbeddings()\n",
        "    vectorstore = Chroma.from_documents(chunks, embeddings)\n",
        "    return vectorstore"
      ],
      "metadata": {
        "id": "IJBNL80WxUMe"
      },
      "execution_count": 17,
      "outputs": []
    },
    {
      "cell_type": "markdown",
      "source": [
        "# Step 3: Corrective RAG related code\n",
        "\n",
        "1. **Initial Retrieval:** We retrieve the top 3 most relevant documents for the query.\n",
        "2. **Initial Response Generation:** Using the retrieved context, we generate an initial response.\n",
        "3. **Critique Generation:** We ask the model to critique its own response, identifying potential errors or missing information.\n",
        "4. **Additional Retrieval:** Based on the critique, we retrieve additional relevant documents.\n",
        "5. **Final Response Generation:** We generate an improved response considering the initial response, critique, and additional context."
      ],
      "metadata": {
        "id": "HGe14v-pxaj_"
      }
    },
    {
      "cell_type": "code",
      "source": [
        "def corrective_rag(query, vectorstore, llm):\n",
        "    # Initial retrieval\n",
        "    initial_docs = vectorstore.similarity_search(query, k=3)\n",
        "    initial_context = \"\\n\".join([doc.page_content for doc in initial_docs])\n",
        "\n",
        "    # Generate initial response\n",
        "    initial_prompt = ChatPromptTemplate.from_template(\n",
        "        \"Based on the following context, please answer the query:\\nContext: {context}\\nQuery: {query}\"\n",
        "    )\n",
        "    initial_chain = initial_prompt | llm\n",
        "    initial_response = initial_chain.invoke({\"context\": initial_context, \"query\": query})\n",
        "\n",
        "    # Generate critique\n",
        "    critique_prompt = ChatPromptTemplate.from_template(\n",
        "        \"Please critique the following response to the query. Identify any potential errors or missing information:\\nQuery: {query}\\nResponse: {response}\"\n",
        "    )\n",
        "    critique_chain = critique_prompt | llm\n",
        "    critique = critique_chain.invoke({\"response\": initial_response.content, \"query\": query})\n",
        "\n",
        "    # Retrieve additional information based on critique\n",
        "    additional_docs = vectorstore.similarity_search(critique.content, k=2)\n",
        "    additional_context = \"\\n\".join([doc.page_content for doc in additional_docs])\n",
        "\n",
        "    # Generate final response\n",
        "    final_prompt = ChatPromptTemplate.from_template(\n",
        "        \"Based on the initial response, critique, and additional context, please provide an improved answer to the query:\\nInitial Response: {initial_response}\\nCritique: {critique}\\nAdditional Context: {additional_context}\\nQuery: {query}\"\n",
        "    )\n",
        "    final_chain = final_prompt | llm\n",
        "    final_response = final_chain.invoke({\n",
        "        \"initial_response\": initial_response.content,\n",
        "        \"critique\": critique.content,\n",
        "        \"additional_context\": additional_context,\n",
        "        \"query\": query\n",
        "    })\n",
        "\n",
        "    return final_response.content"
      ],
      "metadata": {
        "id": "_gAL7mH5xaBM"
      },
      "execution_count": 18,
      "outputs": []
    },
    {
      "cell_type": "markdown",
      "source": [
        "# Step 4: Create chunk of web data to Chroma Vector Store"
      ],
      "metadata": {
        "id": "fFcan5TryUca"
      }
    },
    {
      "cell_type": "code",
      "source": [
        "# Initialize the gemini-pro language model with specified settings (Change temeprature  and other parameters as per your requirement)\n",
        "llm = ChatGoogleGenerativeAI(model=\"gemini-1.5-pro-latest\", temperature=0.3, safety_settings={\n",
        "          HarmCategory.HARM_CATEGORY_DANGEROUS_CONTENT: HarmBlockThreshold.BLOCK_NONE,\n",
        "        },)\n",
        "\n",
        "# Load and process data\n",
        "url = \"https://en.wikipedia.org/wiki/Artificial_intelligence\"\n",
        "chunks = load_and_process_data(url)\n",
        "\n",
        "# Create vector store\n",
        "vectorstore = create_vector_store(chunks)"
      ],
      "metadata": {
        "id": "MrAQVOhXw6QH"
      },
      "execution_count": 22,
      "outputs": []
    },
    {
      "cell_type": "markdown",
      "source": [
        "# Step 5: Run Corrective RAG\n",
        "\n",
        "This implementation demonstrates the key aspects of Corrective RAG:\n",
        "\n",
        "1. Initial retrieval and response generation\n",
        "2. Self-critique to identify potential improvements\n",
        "3. Additional retrieval based on the critique\n",
        "4. Final response generation incorporating all available information"
      ],
      "metadata": {
        "id": "FShzccEf2Z2t"
      }
    },
    {
      "cell_type": "code",
      "source": [
        "# Example query\n",
        "query = \"What are the main applications of artificial intelligence?\"\n",
        "\n",
        "response = corrective_rag(query, vectorstore, llm)\n",
        "\n",
        "print(\"Final Response:\")\n",
        "print(response)"
      ],
      "metadata": {
        "colab": {
          "base_uri": "https://localhost:8080/"
        },
        "id": "XXZ1eC7i2UKm",
        "outputId": "c62abf74-b0ab-4727-a636-948f49f94334"
      },
      "execution_count": 23,
      "outputs": [
        {
          "output_type": "stream",
          "name": "stdout",
          "text": [
            "Final Response:\n",
            "## The Main Applications of Artificial Intelligence\n",
            "\n",
            "Artificial intelligence is rapidly changing the world around us, with applications spanning across numerous fields. Here are some of the most impactful areas where AI is making a difference:\n",
            "\n",
            "**1. Healthcare:** AI is revolutionizing healthcare with applications like:\n",
            "\n",
            "* **Medical Image Analysis:** AI algorithms can analyze medical images like X-rays, CT scans, and MRIs to detect diseases like cancer, pneumonia, and even eye conditions with remarkable accuracy, often surpassing human experts.\n",
            "* **Drug Discovery:** AI accelerates the drug discovery process by analyzing vast datasets of molecular structures and biological information, identifying potential drug candidates and predicting their effectiveness.\n",
            "* **Personalized Treatment:** AI helps tailor treatment plans to individual patients by analyzing their medical history, genetic information, and lifestyle factors, leading to more effective and personalized healthcare.\n",
            "\n",
            "**2. Automation:** AI is automating tasks across various industries, leading to increased efficiency and productivity:\n",
            "\n",
            "* **Manufacturing:** Robots powered by AI are used in assembly lines for tasks like welding, painting, and packaging, improving precision and speed while reducing human error.\n",
            "* **Customer Service:** AI-powered chatbots are now commonplace, providing instant responses to customer queries, resolving issues, and offering personalized recommendations 24/7.\n",
            "* **Finance:** AI algorithms analyze financial data to detect fraudulent transactions, assess credit risks, and automate trading decisions, making financial systems more secure and efficient.\n",
            "\n",
            "**3. Transportation:** AI is transforming the way we move with applications like:\n",
            "\n",
            "* **Self-Driving Cars:** Autonomous vehicles utilize AI-powered systems for navigation, obstacle avoidance, and decision-making, promising safer and more efficient transportation in the future.\n",
            "* **Traffic Management:** AI optimizes traffic flow in real-time by analyzing data from traffic cameras, sensors, and GPS devices, reducing congestion and improving commute times.\n",
            "* **Logistics and Delivery:** AI optimizes delivery routes, predicts delivery times, and manages warehouse operations, making logistics more efficient and cost-effective.\n",
            "\n",
            "**4. Personalization:** AI enhances our daily experiences by tailoring content and services to our individual preferences:\n",
            "\n",
            "* **Recommender Systems:** Platforms like Netflix, Spotify, and Amazon use AI to analyze user data and recommend movies, music, and products tailored to individual tastes.\n",
            "* **Targeted Advertising:** AI helps businesses deliver personalized ads to potential customers based on their online behavior, interests, and demographics.\n",
            "* **Personalized Learning:** AI-powered educational platforms adapt to individual student needs, providing personalized learning paths, feedback, and assessments.\n",
            "\n",
            "**5. Creative Industries:** AI is even making its mark in creative fields, pushing the boundaries of artistic expression:\n",
            "\n",
            "* **AI-Generated Art and Music:** AI algorithms can now create stunning visual art, compose original music, and even write poetry and scripts, challenging traditional notions of creativity.\n",
            "* **Content Creation:** AI assists writers with content generation, grammar and style correction, and even translation, making content creation faster and more efficient.\n",
            "* **Special Effects and Animation:** AI is used in filmmaking to create realistic special effects, animate characters, and even generate entire scenes, revolutionizing the animation and film industries.\n",
            "\n",
            "These examples represent just a glimpse into the vast and ever-expanding world of AI applications. As AI research continues to advance, we can expect even more innovative and transformative applications to emerge, impacting every aspect of our lives. \n",
            "\n"
          ]
        }
      ]
    }
  ]
}